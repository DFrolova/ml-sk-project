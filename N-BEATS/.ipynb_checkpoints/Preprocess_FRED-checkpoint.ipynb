{
 "cells": [
  {
   "cell_type": "code",
   "execution_count": 1,
   "metadata": {},
   "outputs": [],
   "source": [
    "import os\n",
    "import numpy as np\n",
    "import csv"
   ]
  },
  {
   "cell_type": "code",
   "execution_count": 6,
   "metadata": {},
   "outputs": [],
   "source": [
    "# change this 2 parameters to obtain another frequency and forecast length\n",
    "# forecast length should correspond to the chosen frequency\n",
    "data_type = 'quarterly'\n",
    "forecast_length = 8\n",
    "\n",
    "\n",
    "final_filename = './FRED/{}_final.csv'.format(data_type)\n",
    "dir_name = './FRED/{}/'.format(data_type)\n",
    "counter = 0\n",
    "total_len = 0\n",
    "\n",
    "# remove previous predictions if any\n",
    "if os.path.exists(final_filename):\n",
    "    os.remove(final_filename)\n",
    "\n",
    "csv_file = open(final_filename, 'a+')\n",
    "\n",
    "for filename in os.listdir(dir_name):\n",
    "    with open(dir_name + filename, 'r') as f:\n",
    "        reader = csv.reader(f, delimiter=',')\n",
    "        for i, line in enumerate(reader):\n",
    "\n",
    "            counter += 1\n",
    "            ts = np.array(line)\n",
    "            # short ts or contains NaNs\n",
    "            if len(ts) < 2 * forecast_length or len(ts[ts == '.']) > 0:\n",
    "                continue\n",
    "                \n",
    "            ts = ts.astype(float)\n",
    "            \n",
    "            if len(np.unique(ts)) <= 2: # 0/1 ts\n",
    "                continue\n",
    "            \n",
    "            # drop zeros at the beginning and in the end\n",
    "            ts = np.trim_zeros(ts, 'fb')\n",
    "            \n",
    "            # drop ts with constant elements in test phase\n",
    "            if len(ts) < 2 * forecast_length or \\\n",
    "                    len(np.unique(ts[-3 * forecast_length:-forecast_length])) <= 1:\n",
    "                continue\n",
    "            \n",
    "            line = ','.join(ts.astype(str))\n",
    "                \n",
    "            csv_file.write(line + '\\n')\n",
    "            total_len += 1\n",
    "            \n",
    "csv_file.close()"
   ]
  }
 ],
 "metadata": {
  "kernelspec": {
   "display_name": "Python 3",
   "language": "python",
   "name": "python3"
  },
  "language_info": {
   "codemirror_mode": {
    "name": "ipython",
    "version": 3
   },
   "file_extension": ".py",
   "mimetype": "text/x-python",
   "name": "python",
   "nbconvert_exporter": "python",
   "pygments_lexer": "ipython3",
   "version": "3.7.3"
  }
 },
 "nbformat": 4,
 "nbformat_minor": 2
}
