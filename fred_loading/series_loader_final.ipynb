{
 "cells": [
  {
   "cell_type": "code",
   "execution_count": null,
   "metadata": {},
   "outputs": [],
   "source": [
    "from json import loads, load, dumps, dump\n",
    "from pandas import DataFrame\n",
    "from urllib.parse import urlencode\n",
    "from urllib.request import Request, urlopen\n",
    "from lxml import html\n",
    "from time import sleep\n",
    "import time\n",
    "import numpy as np\n",
    "import html5lib\n",
    "from selenium import webdriver\n",
    "import lxml\n",
    "from selenium.webdriver.chrome.options import Options\n",
    "from functools import wraps\n",
    "from copy import deepcopy\n",
    "import warnings\n",
    "from bs4 import BeautifulSoup\n",
    "import pandas as pd\n",
    "import re\n",
    "warnings.filterwarnings('ignore')"
   ]
  },
  {
   "cell_type": "code",
   "execution_count": null,
   "metadata": {},
   "outputs": [],
   "source": [
    "response_data = [\n",
    "                 'categories',\n",
    "                 'seriess',\n",
    "                 'tags',\n",
    "                 'releases',\n",
    "                 'release_dates',\n",
    "                 'sources',\n",
    "                 'vintage_dates',\n",
    "                 'observations'\n",
    "                 ]\n",
    "\n",
    "dates = [\n",
    "        'realtime_start',\n",
    "        'realtime_end',\n",
    "        'date',\n",
    "        'vintage_dates',\n",
    "        'last_updated',\n",
    "        'observation_start',\n",
    "        'observation_end',\n",
    "        'created'\n",
    "        ]"
   ]
  },
  {
   "cell_type": "code",
   "execution_count": null,
   "metadata": {},
   "outputs": [],
   "source": [
    "def get_api_key():\n",
    "    available_keys = ('67d814f93096f8d3ac2637f7b784ceb3', \\\n",
    "                      '470c07aeaf8863bba2307d69e4c0a5d8', \\\n",
    "                      '3561218e0baa9fc3d088e4031341d59f', \\\n",
    "                      '631b29fdae2d62d9a6d1e238f3818730', 'fe59c7cb27f3a567b0c061e2f048dd96', '647de62c05056467af46b5f0feaaee39',\n",
    "                                'b2179af8eca553d1632215156a1bec22',\n",
    "                               'b6cde9ca344846e2bb94598605b68eab', '82a7cb2dc6157fa9b01232141116e1fb',\n",
    "                               '0c5106333ca0d69697a445511ddfe77e', '77bc90a59e2c36a47bc33a98df08c640',\n",
    "                               'd83b3ce2326b16df323285a422bb5058')\n",
    "    return np.random.choice(available_keys)"
   ]
  },
  {
   "cell_type": "code",
   "execution_count": null,
   "metadata": {},
   "outputs": [],
   "source": [
    "url_root = 'https://api.stlouisfed.org/fred'"
   ]
  },
  {
   "cell_type": "code",
   "execution_count": null,
   "metadata": {},
   "outputs": [],
   "source": [
    "def _convert(frame):\n",
    "    frame = frame.apply(pd.to_numeric, errors='ignore')\n",
    "    for column in frame:\n",
    "        if column in dates:\n",
    "            frame[column] = pd.to_datetime(frame[column], utc=True)\n",
    "    return frame\n",
    "\n",
    "\n",
    "def _data_frame(content):\n",
    "    response = loads(content)\n",
    "    key = [x for x in response.keys() if x in response_data][0]\n",
    "    frame = DataFrame(response[key])\n",
    "    final_frame = _convert(frame)\n",
    "    return final_frame\n",
    "\n",
    "\n",
    "def _fetch_obs(url):\n",
    "    chrome_options = Options()\n",
    "    chrome_options.add_argument(\"--headless\")\n",
    "    driver = webdriver.Chrome(options=chrome_options)\n",
    "    \n",
    "    driver.get(url)\n",
    "    content = driver.page_source\n",
    "    driver.quit()\n",
    "    return content\n",
    "\n",
    "\n",
    "def _url_builder(url_root, api_key, path, params):\n",
    "    params['api_key'] = api_key\n",
    "    url_end = urlencode(params)\n",
    "    url = \"%s%s%s\" % (url_root,path,url_end)\n",
    "    return url\n",
    "\n",
    "def _get_request_obs(url_root,api_key,path,params):\n",
    "    url = _url_builder(url_root,api_key,path,params)\n",
    "    content = _fetch_obs(url)\n",
    "    return content\n",
    "\n",
    "    \n",
    "def query_params(*frb_fred_params):\n",
    "    def _wrapper(func):\n",
    "        @wraps(func)\n",
    "        def _wrapped(*args, **kwargs):\n",
    "            params = kwargs.pop('params', {})\n",
    "            for p in frb_fred_params:\n",
    "                if p in kwargs:\n",
    "                    params[p] = kwargs.pop(p)\n",
    "            return func(*args,params=params,**kwargs)\n",
    "        return _wrapped\n",
    "    return _wrapper\n",
    "\n",
    "\n",
    "@query_params('search_type','realtime_start','realtime_end',\n",
    "                  'limit','offset','order_by','sort_order','filter_variable',\n",
    "                  'filter_value','tag_names','exclude_tag_names')\n",
    "def observations(series_id=None,params=None):\n",
    "        path = '/series/observations?'\n",
    "        params['series_id'] = series_id\n",
    "        api_key = get_api_key()\n",
    "        response = _get_request_obs(url_root,api_key,path,params)\n",
    "        return response"
   ]
  },
  {
   "cell_type": "code",
   "execution_count": null,
   "metadata": {},
   "outputs": [],
   "source": [
    "# load file with id of time series\n",
    "# files are obtained using id loader notebook\n",
    "with open('begin_categ_series_32263.json') as json_file:\n",
    "    series_id_data = load(json_file)"
   ]
  },
  {
   "cell_type": "code",
   "execution_count": null,
   "metadata": {},
   "outputs": [],
   "source": [
    "# distribute time series by their frequincy\n",
    "\n",
    "\n",
    "dayly_ids = []\n",
    "weekly_ids = []\n",
    "monthly_ids = []\n",
    "quarterly_ids = []\n",
    "annualy_ids = []\n",
    "\n",
    "\n",
    "for key, value in series_id_data.items():\n",
    "    for pair in value:\n",
    "        if pair[1] == 'D':\n",
    "            dayly_ids.append(pair[0])\n",
    "        elif pair[1] == 'W':\n",
    "            weekly_ids.append(pair[0])\n",
    "        elif pair[1] == 'M':\n",
    "            monthly_ids.append(pair[0])\n",
    "        elif pair[1] == 'Q':\n",
    "            quarterly_ids.append(pair[0])\n",
    "        elif pair[1] == 'A':\n",
    "            annualy_ids.append(pair[0])"
   ]
  },
  {
   "cell_type": "code",
   "execution_count": null,
   "metadata": {},
   "outputs": [],
   "source": [
    "# check how many time seriess\n",
    "len(dayly_ids) + len(weekly_ids) + len(monthly_ids) + len(quarterly_ids) + len(annualy_ids)"
   ]
  },
  {
   "cell_type": "code",
   "execution_count": null,
   "metadata": {},
   "outputs": [],
   "source": [
    "def parse_page(content):\n",
    "    res_strings = re.findall('date=\"\\d{4}-\\d{2}-\\d{2}\" value=\"[-+]?\\d*\\.*\\d+\"|date=\"\\d{4}-\\d{2}-\\d{2}\" value=\".\"', content)\n",
    "    \n",
    "    ts_values = []\n",
    "    for r_s in res_strings:\n",
    "        value = r_s.split('value=\"')[1][:-1]\n",
    "        ts_values.append(value)\n",
    "        \n",
    "    return ts_values"
   ]
  },
  {
   "cell_type": "code",
   "execution_count": null,
   "metadata": {},
   "outputs": [],
   "source": [
    "def append_observation(path, data):\n",
    "    with open(path, 'a') as f:\n",
    "        dump(data, f)"
   ]
  },
  {
   "cell_type": "markdown",
   "metadata": {},
   "source": [
    "### following kernels are for loading time seriess with different frequences\n",
    "\n",
    "### if error happen, just look at i variable and change it in the beginning of the kernel\n",
    "\n",
    "### restart the kernel (continue loading)"
   ]
  },
  {
   "cell_type": "code",
   "execution_count": null,
   "metadata": {},
   "outputs": [],
   "source": [
    "i = 0\n",
    "\n",
    "path = f\"fred_series_5_first_categories/dayly_first_5_categories.txt\"\n",
    "f = open(path, \"a+\")\n",
    "\n",
    "while i < len(dayly_ids):\n",
    "    dayly_id = dayly_ids[i]\n",
    "    observations_page = observations(series_id=dayly_id,\\\n",
    "                                     realtime_start='2019-11-01', \\\n",
    "                                     realtime_end='2019-11-01')\n",
    "    ts_values = parse_page(observations_page)\n",
    "    \n",
    "    f.write(','.join(ts_values) + '\\n')\n",
    "    \n",
    "    # to see progress\n",
    "    i += 1\n",
    "    if i % 100 == 0:\n",
    "        print(i)\n",
    "        \n",
    "f.close()"
   ]
  },
  {
   "cell_type": "code",
   "execution_count": null,
   "metadata": {},
   "outputs": [],
   "source": [
    "i"
   ]
  },
  {
   "cell_type": "code",
   "execution_count": null,
   "metadata": {},
   "outputs": [],
   "source": [
    "i = 0\n",
    "\n",
    "path = f\"fred_series_5_first_categories/weekly_first_5_categories.txt\"\n",
    "f = open(path, \"a+\")\n",
    "\n",
    "while i < len(weekly_ids):\n",
    "    weekly_id = weekly_ids[i]\n",
    "    observations_page = observations(series_id=weekly_id,\\\n",
    "                                     realtime_start='2019-11-01', \\\n",
    "                                     realtime_end='2019-11-01')\n",
    "    ts_values = parse_page(observations_page)\n",
    "    \n",
    "    f.write(','.join(ts_values) + '\\n')\n",
    "    \n",
    "    # to see progress\n",
    "    i += 1\n",
    "    if i % 100 == 0:\n",
    "        print(i)\n",
    "        \n",
    "f.close()"
   ]
  },
  {
   "cell_type": "code",
   "execution_count": null,
   "metadata": {},
   "outputs": [],
   "source": [
    "i"
   ]
  },
  {
   "cell_type": "code",
   "execution_count": null,
   "metadata": {},
   "outputs": [],
   "source": [
    "i = 0\n",
    "\n",
    "path = f\"fred_series_5_first_categories/monthly_first_5_categories.txt\"\n",
    "f = open(path, \"a+\")\n",
    "\n",
    "while i < len(monthly_ids):\n",
    "    monthly_id = monthly_ids[i]\n",
    "    observations_page = observations(series_id=monthly_id,\\\n",
    "                                     realtime_start='2019-11-01', \\\n",
    "                                     realtime_end='2019-11-01')\n",
    "    ts_values = parse_page(observations_page)\n",
    "    \n",
    "    f.write(','.join(ts_values) + '\\n')\n",
    "    \n",
    "    # to see progress\n",
    "    i += 1\n",
    "    if i % 100 == 0:\n",
    "        print(i)\n",
    "        \n",
    "f.close()"
   ]
  },
  {
   "cell_type": "code",
   "execution_count": null,
   "metadata": {},
   "outputs": [],
   "source": [
    "i"
   ]
  },
  {
   "cell_type": "code",
   "execution_count": null,
   "metadata": {},
   "outputs": [],
   "source": [
    "i = 0\n",
    "\n",
    "path = f\"fred_series_5_first_categories/quarterly_first_5_categories.txt\"\n",
    "f = open(path, \"a+\")\n",
    "\n",
    "while i < len(quarterly_ids):\n",
    "    quarterly_id = quarterly_ids[i]\n",
    "    observations_page = observations(series_id=quarterly_id,\\\n",
    "                                     realtime_start='2019-11-01', \\\n",
    "                                     realtime_end='2019-11-01')\n",
    "    ts_values = parse_page(observations_page)\n",
    "    \n",
    "    f.write(','.join(ts_values) + '\\n')\n",
    "    \n",
    "    # to see progress\n",
    "    i += 1\n",
    "    if i % 100 == 0:\n",
    "        print(i)\n",
    "        \n",
    "f.close()"
   ]
  },
  {
   "cell_type": "code",
   "execution_count": null,
   "metadata": {},
   "outputs": [],
   "source": [
    "i"
   ]
  },
  {
   "cell_type": "code",
   "execution_count": null,
   "metadata": {
    "scrolled": true
   },
   "outputs": [],
   "source": [
    "i = 0\n",
    "\n",
    "path = f\"fred_series_5_first_categories/anually_first_5_categories.txt\"\n",
    "f = open(path, \"a+\")\n",
    "\n",
    "while i < len(annualy_ids):\n",
    "    annualy_id = annualy_ids[i]\n",
    "    observations_page = observations(series_id=annualy_id,\\\n",
    "                                     realtime_start='2019-11-01', \\\n",
    "                                     realtime_end='2019-11-01')\n",
    "    ts_values = parse_page(observations_page)\n",
    "    \n",
    "    f.write(','.join(ts_values) + '\\n')\n",
    "    \n",
    "    # to see progress\n",
    "    i += 1\n",
    "    if i % 100 == 0:\n",
    "        print(i)\n",
    "        \n",
    "f.close()"
   ]
  },
  {
   "cell_type": "code",
   "execution_count": null,
   "metadata": {},
   "outputs": [],
   "source": [
    "i"
   ]
  },
  {
   "cell_type": "markdown",
   "metadata": {},
   "source": [
    "running this script could take about one week to load all series from one IP adress (we used two and done in 5 days)"
   ]
  },
  {
   "cell_type": "code",
   "execution_count": null,
   "metadata": {},
   "outputs": [],
   "source": []
  }
 ],
 "metadata": {
  "kernelspec": {
   "display_name": "Python 3",
   "language": "python",
   "name": "python3"
  },
  "language_info": {
   "codemirror_mode": {
    "name": "ipython",
    "version": 3
   },
   "file_extension": ".py",
   "mimetype": "text/x-python",
   "name": "python",
   "nbconvert_exporter": "python",
   "pygments_lexer": "ipython3",
   "version": "3.6.10"
  }
 },
 "nbformat": 4,
 "nbformat_minor": 4
}
